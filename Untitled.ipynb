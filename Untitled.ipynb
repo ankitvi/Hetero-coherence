{
 "cells": [
  {
   "cell_type": "code",
   "execution_count": null,
   "id": "83f75d55",
   "metadata": {},
   "outputs": [],
   "source": [
    "import numpy as np\n",
    "\n",
    "import matplotlib.pyplot as plt\n",
    "from scipy import integrate\n",
    "from scipy import linalg\n",
    "\n",
    "\n",
    "N_sp = 50    ### Number of species\n",
    "\n",
    "D = 100   ### Diffusion coefficient\n",
    "\n",
    "n_sp_full = []\n",
    "\n",
    "habitats = np.array([(i+1)**2 for i in range(5)])   ## Number of patches\n",
    "\n",
    "spatial_corr = 0           ## Spatial correlation between patches\n",
    "\n",
    "\n",
    "def discrete_laplacian(M):\n",
    "    \"\"\"Get the discrete Laplacian of matrix M\"\"\"\n",
    "    L = -4*M\n",
    "    L += np.roll(M, (0,-1), (0,1)) # right neighbor\n",
    "    L += np.roll(M, (0,+1), (0,1)) # left neighbor\n",
    "    L += np.roll(M, (-1,0), (0,1)) # top neighbor\n",
    "    L += np.roll(M, (+1,0), (0,1)) # bottom neighbor\n",
    "    \n",
    "    return L\n",
    "\n",
    "\n",
    "def f(t,y):\n",
    "    \n",
    "#     y = [y[i] if y[i] > 10**-5 else 0 for i in range(len(y))]\n",
    "    \n",
    "    y_diff = np.copy(y)\n",
    "    \n",
    "    for i in range(N_sp):\n",
    "        sp_mat_temp = np.array( [ [ y[(j+k*int(np.sqrt(ii)))*N_sp + i] for j in range(int(np.sqrt(ii)))] for k in range(int(np.sqrt(ii))) ] )\n",
    "        lap = discrete_laplacian(sp_mat_temp)\n",
    "        for k in range(int(np.sqrt(ii))):\n",
    "            for j in range(int(np.sqrt(ii))):\n",
    "                y_diff[(j+k*int(np.sqrt(ii)))*N_sp + i] = lap[k,j]\n",
    "                \n",
    "        \n",
    "\n",
    "    return np.multiply(y,np.tile(r,ii)  + np.dot( B ,y ) - np.dot( np.tile( r/K, ii )*np.eye(N_sp*ii), y ) ) + D*y_diff\n",
    "\n",
    "\n",
    "\n",
    "for ii in habitats:\n",
    "\n",
    "    K = np.random.normal(1, 0.0, N_sp) ### Carrying capacities\n",
    "\n",
    "    r = np.random.normal(1, 0.0, N_sp) ### Growth rates\n",
    "\n",
    "\n",
    "        ####### Multiple interaction matrices for different patches ########\n",
    "    \n",
    "    patch_means = np.array([0 for i in range(ii)])  \n",
    "\n",
    "    patch_std = (5/4)/np.sqrt(N_sp)\n",
    "\n",
    "    \n",
    "    \n",
    "    cov_mat = np.array([ [patch_std**2 if i==j else (patch_std**2)*spatial_corr for j in range(ii)] for i in range(ii) ])\n",
    "\n",
    "    rng = np.random.default_rng()\n",
    "\n",
    "    a_rand = rng.multivariate_normal(patch_means, cov_mat, (N_sp, N_sp)).T\n",
    "\n",
    "\n",
    "    B = np.array([ [ 0.0 if j==k or (k//N_sp != j//N_sp) else a_rand[j//(N_sp), j%N_sp, k%N_sp] for k in range(N_sp*ii) ] for j in range(N_sp*ii) ])\n",
    "\n",
    "    \n",
    "    sol = integrate.solve_ivp(f, [0,100], [1.1 for j in range(N_sp*ii)])\n",
    "    \n",
    "    n_sp_full.append( len( [sol.y[j, len(sol.t) - 1] for j in range(N_sp) if sol.y[j, len(sol.t) - 1] > 10**-5] ) )  ### All patches have the same number of species in spatially coherent limit\n",
    "    \n",
    "\n",
    "plt.scatter(habitats, n_sp_full/N_sp)\n",
    "\n",
    "plt.xlabel('Number of habitats', fontsize=20)\n",
    "plt.ylabel('Relative species richness', fontsize=20)\n",
    "plt.show()\n",
    "\n",
    "\n",
    "\n"
   ]
  },
  {
   "cell_type": "code",
   "execution_count": 7,
   "id": "0becf3f3",
   "metadata": {},
   "outputs": [
    {
     "data": {
      "text/plain": [
       "50"
      ]
     },
     "execution_count": 7,
     "metadata": {},
     "output_type": "execute_result"
    }
   ],
   "source": [
    "N_sp*ii"
   ]
  },
  {
   "cell_type": "code",
   "execution_count": null,
   "id": "403521bd",
   "metadata": {},
   "outputs": [],
   "source": []
  }
 ],
 "metadata": {
  "kernelspec": {
   "display_name": "Python 3 (ipykernel)",
   "language": "python",
   "name": "python3"
  },
  "language_info": {
   "codemirror_mode": {
    "name": "ipython",
    "version": 3
   },
   "file_extension": ".py",
   "mimetype": "text/x-python",
   "name": "python",
   "nbconvert_exporter": "python",
   "pygments_lexer": "ipython3",
   "version": "3.8.9"
  }
 },
 "nbformat": 4,
 "nbformat_minor": 5
}
